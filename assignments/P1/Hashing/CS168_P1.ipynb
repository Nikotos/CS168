{
 "cells": [
  {
   "cell_type": "markdown",
   "metadata": {},
   "source": [
    "# CS168 P1 Part 1"
   ]
  },
  {
   "cell_type": "markdown",
   "metadata": {},
   "source": [
    "## The Power of Two Choices\n",
    "**Description** : We consider random processes of the following type: there are N bins, and we throw N balls into them, one by one. We’ll compare four different strategies for choosing the bin in which to place a given ball.\n"
   ]
  },
  {
   "cell_type": "markdown",
   "metadata": {},
   "source": [
    "**First approach**\n",
    "\n",
    "1. Select one of the N bins uniformly at random, and place the current ball in it."
   ]
  },
  {
   "cell_type": "code",
   "execution_count": 1,
   "metadata": {},
   "outputs": [],
   "source": [
    "import numpy as np\n",
    "import random\n",
    "from collections import Counter\n",
    "from tqdm import tqdm\n",
    "import matplotlib.pyplot as plt"
   ]
  },
  {
   "cell_type": "code",
   "execution_count": 76,
   "metadata": {},
   "outputs": [],
   "source": [
    "\"\"\"\n",
    "    Implements first approach\n",
    "    returns numpy array where each number corresponds to amount of balls in bin\n",
    "\"\"\"\n",
    "def first_way(N):\n",
    "    bins = np.zeros(N)\n",
    "    for count in range(N):\n",
    "        bin_index = np.random.randint(N)\n",
    "        bins[bin_index] += 1\n",
    "    return bins"
   ]
  },
  {
   "cell_type": "markdown",
   "metadata": {},
   "source": [
    "**Second approach**\n",
    "2. Select two of the N bins uniformly at random (either with or without replacement), and look at how many balls are already in each. If one bin has strictly fewer balls than the other, place the current ball in that bin. If both bins have the same number of balls, pick one of the two at random and place the current ball in it.\n"
   ]
  },
  {
   "cell_type": "code",
   "execution_count": 77,
   "metadata": {},
   "outputs": [],
   "source": [
    "\"\"\"\n",
    "    Implements second approach\n",
    "    returns numpy array where each number corresponds to amount of balls in bin\n",
    "\"\"\"\n",
    "def replacement_logic_2(N):\n",
    "    index_1 = 0\n",
    "    index_2 = 0\n",
    "    while(index_1 == index_2):\n",
    "        index_1 = np.random.randint(N)\n",
    "        index_2 = np.random.randint(N)\n",
    "    return index_1, index_2\n",
    "    \n",
    "def second_way(N, replacement_flag = False):\n",
    "    bins = np.zeros(N)\n",
    "    for count in range(N):\n",
    "        if (replacement_flag == True):\n",
    "            first_bin_index, second_bin_index = replacement_logic_2(N)\n",
    "        else:\n",
    "            first_bin_index = np.random.randint(N)\n",
    "            second_bin_index = np.random.randint(N)\n",
    "        \n",
    "        if (bins[first_bin_index] < bins[second_bin_index]):\n",
    "            bins[first_bin_index] += 1\n",
    "        elif(bins[second_bin_index] < bins[first_bin_index]):\n",
    "            bins[second_bin_index] += 1\n",
    "        else:\n",
    "            # perform random choose between two bins\n",
    "            indices = [first_bin_index, second_bin_index]\n",
    "            index = indices[np.random.randint(2)]\n",
    "            bins[index] += 1\n",
    "    return bins"
   ]
  },
  {
   "cell_type": "markdown",
   "metadata": {},
   "source": [
    "**Third Approach**\n",
    "3. Same as the previous strategy, except choosing three bins at random rather than two.\n"
   ]
  },
  {
   "cell_type": "code",
   "execution_count": 120,
   "metadata": {},
   "outputs": [],
   "source": [
    "\"\"\"\n",
    "    Implements third approach\n",
    "    returns numpy array where each number corresponds to amount of balls in bin\n",
    "\"\"\"\n",
    "def third_way(N, replacement_flag = False):\n",
    "    bins = np.zeros(N)\n",
    "    for count in range(N):\n",
    "        if (replacement_flag == True):\n",
    "            indices = np.random.choice(N, 3, replace=False)\n",
    "        else:\n",
    "            indices = [np.random.randint(N) for i in range(3)]\n",
    "        elements = bins[indices]\n",
    "        if (len(set(elements)) == 1):\n",
    "            index = indices[np.random.randint(3)]\n",
    "            bins[index] += 1\n",
    "        elif (len(set(elements)) == 2):\n",
    "            value, _ = Counter(elements).most_common()[0]\n",
    "            two_indices = []\n",
    "            for i in range(3):\n",
    "                if (elements[i] == value):\n",
    "                    two_indices.append(indices[i])\n",
    "            bins[two_indices[np.random.randint(2)]] += 1    \n",
    "        else:\n",
    "            index = indices[np.argmin(elements)]\n",
    "            bins[index] += 1\n",
    "    return bins"
   ]
  },
  {
   "cell_type": "code",
   "execution_count": 145,
   "metadata": {},
   "outputs": [
    {
     "data": {
      "text/plain": [
       "array([ 93147, 175214, 117909])"
      ]
     },
     "execution_count": 145,
     "metadata": {},
     "output_type": "execute_result"
    }
   ],
   "source": [
    "np.random.choice(N, 3, replace=False)"
   ]
  },
  {
   "cell_type": "markdown",
   "metadata": {},
   "source": [
    "**Fourth Approach**\n",
    "4. Select two bins as follows: the first bin is selected uniformly from the first N/2 bins, and the second uniformly from the last N/2 bins. (You can assume that N is even.) If one bin has strictly fewer balls than the other, place the current ball in that bin. If both bins have the same number of balls, place the current ball (deterministically) in the first of the two bins.\n"
   ]
  },
  {
   "cell_type": "code",
   "execution_count": 117,
   "metadata": {},
   "outputs": [],
   "source": [
    "\"\"\"\n",
    "    Implements fourth approach\n",
    "    returns numpy array where each number corresponds to amount of balls in bin\n",
    "\"\"\"\n",
    "def fourth_way(N):\n",
    "    bins = np.zeros(N)\n",
    "    for count in range(N):\n",
    "        first_bin_index = np.random.randint(0, N / 2)\n",
    "        second_bin_index = np.random.randint(N / 2, N)\n",
    "        if (bins[first_bin_index] < bins[second_bin_index]):\n",
    "            bins[first_bin_index] += 1\n",
    "        elif(bins[second_bin_index] < bins[first_bin_index]):\n",
    "            bins[second_bin_index] += 1\n",
    "        else:\n",
    "            # pre-deterministic choose\n",
    "            bins[first_bin_index] += 1 \n",
    "            \n",
    "    return bins"
   ]
  },
  {
   "cell_type": "markdown",
   "metadata": {},
   "source": [
    "### Evaluation Part"
   ]
  },
  {
   "cell_type": "code",
   "execution_count": 147,
   "metadata": {},
   "outputs": [],
   "source": [
    "\"\"\"\n",
    "    'approach' - one of functions above\n",
    "\"\"\"\n",
    "N = 200000\n",
    "steps = 30\n",
    "\n",
    "def evaluate_approach(approach, flag = None):\n",
    "    results = []\n",
    "    for i in tqdm(range(steps)):\n",
    "        if (flag != None):\n",
    "            bins = approach(N, flag)\n",
    "        else:\n",
    "            bins = approach(N)\n",
    "        x = bins.max()\n",
    "        results.append(int(x))\n",
    "    return results"
   ]
  },
  {
   "cell_type": "markdown",
   "metadata": {},
   "source": [
    "### First approach"
   ]
  },
  {
   "cell_type": "code",
   "execution_count": 106,
   "metadata": {},
   "outputs": [
    {
     "name": "stderr",
     "output_type": "stream",
     "text": [
      "100%|██████████| 30/30 [00:40<00:00,  1.36s/it]\n"
     ]
    }
   ],
   "source": [
    "result_1 = evaluate_approach(first_way)"
   ]
  },
  {
   "cell_type": "code",
   "execution_count": 107,
   "metadata": {},
   "outputs": [
    {
     "data": {
      "text/plain": [
       "(array([ 4.,  0.,  0., 21.,  0.,  0.,  4.,  0.,  0.,  1.]),\n",
       " array([ 7. ,  7.3,  7.6,  7.9,  8.2,  8.5,  8.8,  9.1,  9.4,  9.7, 10. ]),\n",
       " <a list of 10 Patch objects>)"
      ]
     },
     "execution_count": 107,
     "metadata": {},
     "output_type": "execute_result"
    },
    {
     "data": {
      "image/png": "[encoded data removed]",
      "text/plain": [
       "<Figure size 432x288 with 1 Axes>"
      ]
     },
     "metadata": {
      "needs_background": "light"
     },
     "output_type": "display_data"
    }
   ],
   "source": [
    "plt.hist(result_1)"
   ]
  },
  {
   "cell_type": "markdown",
   "metadata": {},
   "source": [
    "### Second Approach"
   ]
  },
  {
   "cell_type": "markdown",
   "metadata": {},
   "source": [
    "*With replacement* \\\n",
    "Another words we always choose two different indices"
   ]
  },
  {
   "cell_type": "code",
   "execution_count": 148,
   "metadata": {},
   "outputs": [
    {
     "name": "stderr",
     "output_type": "stream",
     "text": [
      "100%|██████████| 30/30 [01:37<00:00,  3.24s/it]\n"
     ]
    }
   ],
   "source": [
    "result_2 = evaluate_approach(second_way, flag = True)"
   ]
  },
  {
   "cell_type": "code",
   "execution_count": 131,
   "metadata": {},
   "outputs": [
    {
     "data": {
      "text/plain": [
       "(array([ 9.,  0.,  0.,  0.,  0.,  0.,  0.,  0.,  0., 21.]),\n",
       " array([3. , 3.1, 3.2, 3.3, 3.4, 3.5, 3.6, 3.7, 3.8, 3.9, 4. ]),\n",
       " <a list of 10 Patch objects>)"
      ]
     },
     "execution_count": 131,
     "metadata": {},
     "output_type": "execute_result"
    },
    {
     "data": {
      "image/png": "[encoded data removed]",
      "text/plain": [
       "<Figure size 432x288 with 1 Axes>"
      ]
     },
     "metadata": {
      "needs_background": "light"
     },
     "output_type": "display_data"
    }
   ],
   "source": [
    "plt.hist(result_2)"
   ]
  },
  {
   "cell_type": "markdown",
   "metadata": {},
   "source": [
    "*Without replacement* \\\n",
    "We may choose two same indices"
   ]
  },
  {
   "cell_type": "code",
   "execution_count": 150,
   "metadata": {},
   "outputs": [
    {
     "name": "stderr",
     "output_type": "stream",
     "text": [
      "100%|██████████| 30/30 [01:29<00:00,  2.99s/it]\n"
     ]
    },
    {
     "data": {
      "text/plain": [
       "(array([ 7.,  0.,  0.,  0.,  0.,  0.,  0.,  0.,  0., 23.]),\n",
       " array([3. , 3.1, 3.2, 3.3, 3.4, 3.5, 3.6, 3.7, 3.8, 3.9, 4. ]),\n",
       " <a list of 10 Patch objects>)"
      ]
     },
     "execution_count": 150,
     "metadata": {},
     "output_type": "execute_result"
    },
    {
     "data": {
      "image/png": "[encoded data removed]",
      "text/plain": [
       "<Figure size 432x288 with 1 Axes>"
      ]
     },
     "metadata": {
      "needs_background": "light"
     },
     "output_type": "display_data"
    }
   ],
   "source": [
    "result_2_2 = evaluate_approach(second_way, flag = False)\n",
    "plt.hist(result_2_2)"
   ]
  },
  {
   "cell_type": "markdown",
   "metadata": {},
   "source": [
    "### Third Approach"
   ]
  },
  {
   "cell_type": "code",
   "execution_count": 110,
   "metadata": {},
   "outputs": [
    {
     "name": "stderr",
     "output_type": "stream",
     "text": [
      "100%|██████████| 30/30 [03:24<00:00,  6.81s/it]\n"
     ]
    }
   ],
   "source": [
    "result_3 = evaluate_approach(third_way)"
   ]
  },
  {
   "cell_type": "code",
   "execution_count": 111,
   "metadata": {},
   "outputs": [
    {
     "data": {
      "text/plain": [
       "(array([ 0.,  0.,  0.,  0.,  0., 30.,  0.,  0.,  0.,  0.]),\n",
       " array([3.5, 3.6, 3.7, 3.8, 3.9, 4. , 4.1, 4.2, 4.3, 4.4, 4.5]),\n",
       " <a list of 10 Patch objects>)"
      ]
     },
     "execution_count": 111,
     "metadata": {},
     "output_type": "execute_result"
    },
    {
     "data": {
      "image/png": "[encoded data removed]",
      "text/plain": [
       "<Figure size 432x288 with 1 Axes>"
      ]
     },
     "metadata": {
      "needs_background": "light"
     },
     "output_type": "display_data"
    }
   ],
   "source": [
    "plt.hist(result_3)"
   ]
  },
  {
   "cell_type": "markdown",
   "metadata": {},
   "source": [
    "### Fourth Approach"
   ]
  },
  {
   "cell_type": "code",
   "execution_count": 118,
   "metadata": {},
   "outputs": [
    {
     "name": "stderr",
     "output_type": "stream",
     "text": [
      "100%|██████████| 30/30 [01:16<00:00,  2.56s/it]\n"
     ]
    }
   ],
   "source": [
    "result_4 = evaluate_approach(fourth_way)"
   ]
  },
  {
   "cell_type": "code",
   "execution_count": 119,
   "metadata": {},
   "outputs": [
    {
     "data": {
      "text/plain": [
       "(array([ 0.,  0.,  0.,  0.,  0., 30.,  0.,  0.,  0.,  0.]),\n",
       " array([2.5, 2.6, 2.7, 2.8, 2.9, 3. , 3.1, 3.2, 3.3, 3.4, 3.5]),\n",
       " <a list of 10 Patch objects>)"
      ]
     },
     "execution_count": 119,
     "metadata": {},
     "output_type": "execute_result"
    },
    {
     "data": {
      "image/png": "[encoded data removed]",
      "text/plain": [
       "<Figure size 432x288 with 1 Axes>"
      ]
     },
     "metadata": {
      "needs_background": "light"
     },
     "output_type": "display_data"
    }
   ],
   "source": [
    "plt.hist(result_4)"
   ]
  },
  {
   "cell_type": "code",
   "execution_count": null,
   "metadata": {},
   "outputs": [],
   "source": []
  }
 ],
 "metadata": {
  "kernelspec": {
   "display_name": "Python 3",
   "language": "python",
   "name": "python3"
  },
  "language_info": {
   "codemirror_mode": {
    "name": "ipython",
    "version": 3
   },
   "file_extension": ".py",
   "mimetype": "text/x-python",
   "name": "python",
   "nbconvert_exporter": "python",
   "pygments_lexer": "ipython3",
   "version": "3.7.4"
  }
 },
 "nbformat": 4,
 "nbformat_minor": 4
}
