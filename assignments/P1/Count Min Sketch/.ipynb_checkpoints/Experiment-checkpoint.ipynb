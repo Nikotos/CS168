{
 "cells": [
  {
   "cell_type": "markdown",
   "metadata": {},
   "source": [
    "# CS168 P1 Part2 \n",
    "## Count-Min Sketch\n",
    "**Goal**: The goal of this part is to understand the count-min sketch (from Lecture #2) via an implementa- tion, and to explore the benefits of a “conservative updates” optimization.\n",
    "\\\n",
    "\\\n",
    "**Description**: You’ll use a count-min sketch with 4 independent hash tables, each with 256 counters. You will run 10 independent trials. This lets you measure not only the accuracy of the sketch, but the distribution of the accuracy over multiple datasets with the same frequency distribution. Your sketch should take a “trial” as input, and the hash value of an element x during trial i (i = 1,2,...,10) for table j (j = 1,2,3,4) is calculated as follows:\n",
    "\\\n",
    "\\\n",
    "• Consider the input x as a string, and append i − 1 as a string to the end of the string.\n",
    "\\\n",
    "• Calculate the MD5 score of the resulting string.\n",
    "modern programming languages have packages that calculate MD5 scores for you. For example, in Python 3, you can use the hashlib library and hashlib.md5(foo.encode(’utf-8’)).hexdigest() to compute the MD5 score of the string foo (returning a hexidecimal string).\n",
    "\\\n",
    "• The hash value is the j-th byte of the score."
   ]
  },
  {
   "cell_type": "markdown",
   "metadata": {},
   "source": [
    "**(a)** *(5 points)* Implement the count-min sketch, as above."
   ]
  },
  {
   "cell_type": "code",
   "execution_count": 1,
   "metadata": {},
   "outputs": [],
   "source": [
    "\"\"\"\n",
    "    Implementation in count_min_sketch.py\n",
    "\"\"\"\n",
    "from count_min_sketch import *"
   ]
  },
  {
   "cell_type": "markdown",
   "metadata": {},
   "source": [
    "We will be feeding data streams (i.e., sequences of elements) into count-min sketches. Every element of\n",
    "each stream is an integer between 1 and 9050 (inclusive). The frequencies are given by:\n",
    "\\\n",
    "\\\n",
    "• Integers $1000·(i−1)+1 $ to $1000·i$, for $1≤i≤9$,appear $i$ times in the stream. Thatis, the integers $1$ to $1000$ appear once in the stream; $1001$ to $2000$ appear twice; and so on.\n",
    "\\\n",
    "\\\n",
    "• An integer $9000 + i$, for $1 ≤ i ≤ 50$, appears $i^2$ times in the stream. For example, the integer $9050$ appears $2500$ times.\n",
    "\\\n",
    "(Each time an integer appears in the stream, it has a count of 1 associated with it.)"
   ]
  },
  {
   "cell_type": "markdown",
   "metadata": {},
   "source": [
    "**(b)** *(2 points)* Call an integer a heavy hitter if the number of times it appears is at least 1% of the total number of stream elements. How many heavy hitters are there in a stream with the above frequencies?"
   ]
  },
  {
   "cell_type": "code",
   "execution_count": 2,
   "metadata": {},
   "outputs": [],
   "source": [
    "def get_frequency(integer):\n",
    "    if ((integer <= 9050) and (integer >= 1)):\n",
    "        if ((integer >= 9001)):\n",
    "            return (integer - 9000)**2\n",
    "        else:\n",
    "            return ((integer - 1) // 1000) + 1"
   ]
  },
  {
   "cell_type": "code",
   "execution_count": 3,
   "metadata": {},
   "outputs": [
    {
     "name": "stdout",
     "output_type": "stream",
     "text": [
      "87925\n"
     ]
    }
   ],
   "source": [
    "N = sum([get_frequency(i) for i in range(1, 9051)])\n",
    "print(N)"
   ]
  },
  {
   "cell_type": "markdown",
   "metadata": {},
   "source": [
    "We have $N = 87925$ numbers at all \\\n",
    "Thats why we consider element the heavy hitter if it appears more that $\\nu = \\frac{N}{100} = \\frac{87925}{100} = 879.25$, \\\n",
    "$[\\nu] = 880$"
   ]
  },
  {
   "cell_type": "code",
   "execution_count": 4,
   "metadata": {},
   "outputs": [],
   "source": [
    "heavy_hitter_min_count = 880"
   ]
  },
  {
   "cell_type": "markdown",
   "metadata": {},
   "source": [
    "Next, we will consider 3 different data streams, each corresponding to the elements above in a different order.\n",
    "1. Forward: the elements appear in non-decreasing order.\n",
    "2. Reverse: the elements appear in non-increasing order.\n",
    "3. Random: the elements appear in a random order."
   ]
  },
  {
   "cell_type": "code",
   "execution_count": 5,
   "metadata": {},
   "outputs": [],
   "source": [
    "def forward_stream():\n",
    "    for integer in range(1, 9051):\n",
    "        freq = get_frequency(integer)\n",
    "        for j in range(freq):\n",
    "            yield integer"
   ]
  },
  {
   "cell_type": "code",
   "execution_count": 6,
   "metadata": {},
   "outputs": [],
   "source": [
    "def backward_stream():\n",
    "    for integer in range(9050, 0, -1):\n",
    "        freq = get_frequency(integer)\n",
    "        for j in range(freq):\n",
    "            yield integer"
   ]
  },
  {
   "cell_type": "code",
   "execution_count": 7,
   "metadata": {},
   "outputs": [],
   "source": [
    "def random_stream():\n",
    "    integers = np.random.choice(9050, 9050, replace = False) + 1\n",
    "    for integer in integers:\n",
    "        freq = get_frequency(integer)\n",
    "        for j in range(freq):\n",
    "            yield integer"
   ]
  },
  {
   "cell_type": "markdown",
   "metadata": {},
   "source": [
    "**(c)** *(6 points)* For each of the three data streams, feed it into a count-min sketch (i.e., successively insert its elements), and compute the values of the following quantities, averaged over the 10 trials, for each order of the stream: \\\n",
    " – The sketch’s estimate for the frequency of element 9050.\\\n",
    " – The sketch’s estimate for the number of heavy hitters (elements with estimated frequency at least\n",
    "1% of the stream length).\n",
    "Record the mean estimate for each of the three orders. Does the order of the stream affect the estimated counts? Explain your answer.\n"
   ]
  },
  {
   "cell_type": "code",
   "execution_count": 8,
   "metadata": {},
   "outputs": [],
   "source": [
    "\"\"\"\n",
    "    Implementation of Approximate Heavy Hitter Problem Solver\n",
    "\"\"\"\n",
    "from heavy_hitter_solver import Heavy_Hitters_Solver"
   ]
  },
  {
   "cell_type": "code",
   "execution_count": 9,
   "metadata": {},
   "outputs": [],
   "source": [
    "element_to_check = 9050"
   ]
  },
  {
   "cell_type": "markdown",
   "metadata": {},
   "source": [
    "An integer $9000 + i$, for $1 ≤ i ≤ 50$, appears $i^2$ times in the stream \\\n",
    "True Heavy Hitters amount is amount of elements with estimated frequency at least 1% of the stream length \\\n",
    "i.e. at least 880 times \\\n",
    "which is equal to $ 50 - [\\sqrt {880}] = 50 - 29 = 21$ times"
   ]
  },
  {
   "cell_type": "code",
   "execution_count": 10,
   "metadata": {},
   "outputs": [],
   "source": [
    "true_element_frequency = get_frequency(9050)\n",
    "true_heavy_hitters_amount = 21"
   ]
  },
  {
   "cell_type": "code",
   "execution_count": 11,
   "metadata": {},
   "outputs": [],
   "source": [
    "def perform_trial(trial_i, stream, conservative_updates = False):\n",
    "    sketch = CountMinSketch(conservative_updates = conservative_updates)\n",
    "    hh_solver = Heavy_Hitters_Solver(sketch, heavy_hitter_min_count)\n",
    "    for element in stream:\n",
    "        trial_element = str(element) + str(trial_i - 1)\n",
    "        hh_solver.Inc(trial_element)\n",
    "        \n",
    "    heavy_hitters = hh_solver.heavy_hitters()\n",
    "    \n",
    "    # ------------------------------------------------------------------\n",
    "    trial_element_to_check = str(element_to_check) + str(trial_i - 1)\n",
    "    element_estimated_frequency = sketch.Count(trial_element_to_check)\n",
    "    heavy_hitters_amount = len(heavy_hitters)\n",
    "    # ------------------------------------------------------------------\n",
    "    \n",
    "    return element_estimated_frequency, heavy_hitters_amount"
   ]
  },
  {
   "cell_type": "markdown",
   "metadata": {},
   "source": [
    "### **Conducting research**"
   ]
  },
  {
   "cell_type": "code",
   "execution_count": 31,
   "metadata": {},
   "outputs": [],
   "source": [
    "def percent_mistake(a,b):\n",
    "    return str( 100 * (a - b) / b) + \"%\"\n",
    "\n",
    "def conduct_research(stream_func, verbose = True, conservative_updates = False):\n",
    "    a = []\n",
    "    b = []\n",
    "    print(\"Conservative Updates =\", conservative_updates)\n",
    "    for trial_i in range(1, 11):\n",
    "        element_estimated_frequency, heavy_hitters_amount = perform_trial(trial_i, stream_func(), conservative_updates)\n",
    "        a.append(element_estimated_frequency)\n",
    "        b.append(heavy_hitters_amount)\n",
    "        if (verbose == True):\n",
    "            print(\"trial -\", trial_i)\n",
    "            print(\"estimated 9050 frequency -\", element_estimated_frequency, \", true 9050 frequency -\", true_element_frequency, \n",
    "                  \", mistake -\", percent_mistake(element_estimated_frequency, true_element_frequency))\n",
    "            print(\"estimated heavy hitters amount -\", heavy_hitters_amount, \", true heavy hitters amount -\", true_heavy_hitters_amount,\n",
    "                 \", mistake -\", percent_mistake(heavy_hitters_amount, true_heavy_hitters_amount))\n",
    "            print()\n",
    "     \n",
    "    mean_etimated_frequency = sum(a) / len(a)\n",
    "    mean_hh_amount = sum(b) / len(b)\n",
    "    print()\n",
    "    print(stream_func)\n",
    "    print(\"mean element estimated frequency of 9050 -\", mean_etimated_frequency, \", true -\", true_element_frequency, \n",
    "         \", mistake -\", percent_mistake(mean_etimated_frequency, true_element_frequency))\n",
    "    print(\"mean heavy hitters amount -\", mean_hh_amount, \", true -\", true_heavy_hitters_amount,\n",
    "         \", mistake -\", percent_mistake(mean_hh_amount, true_heavy_hitters_amount))\n",
    "    print()\n",
    "    return mean_etimated_frequency, mean_hh_amount"
   ]
  },
  {
   "cell_type": "markdown",
   "metadata": {},
   "source": [
    "**Forwad Stream**"
   ]
  },
  {
   "cell_type": "code",
   "execution_count": 23,
   "metadata": {},
   "outputs": [
    {
     "name": "stdout",
     "output_type": "stream",
     "text": [
      "performing forward stream\n",
      "\n",
      "Conservative Updates = False\n",
      "trial - 1\n",
      "estimated 9050 frequency - 2626 , true 9050 frequency - 2500 , mistake - 5.04%\n",
      "estimated heavy hitters amount - 24 , true heavy hitters amount - 21 , mistake - 14.285714285714286%\n",
      "\n",
      "trial - 2\n",
      "estimated 9050 frequency - 2633 , true 9050 frequency - 2500 , mistake - 5.32%\n",
      "estimated heavy hitters amount - 24 , true heavy hitters amount - 21 , mistake - 14.285714285714286%\n",
      "\n",
      "trial - 3\n",
      "estimated 9050 frequency - 2654 , true 9050 frequency - 2500 , mistake - 6.16%\n",
      "estimated heavy hitters amount - 23 , true heavy hitters amount - 21 , mistake - 9.523809523809524%\n",
      "\n",
      "trial - 4\n",
      "estimated 9050 frequency - 2654 , true 9050 frequency - 2500 , mistake - 6.16%\n",
      "estimated heavy hitters amount - 24 , true heavy hitters amount - 21 , mistake - 14.285714285714286%\n",
      "\n",
      "trial - 5\n",
      "estimated 9050 frequency - 2623 , true 9050 frequency - 2500 , mistake - 4.92%\n",
      "estimated heavy hitters amount - 23 , true heavy hitters amount - 21 , mistake - 9.523809523809524%\n",
      "\n",
      "trial - 6\n",
      "estimated 9050 frequency - 2655 , true 9050 frequency - 2500 , mistake - 6.2%\n",
      "estimated heavy hitters amount - 23 , true heavy hitters amount - 21 , mistake - 9.523809523809524%\n",
      "\n",
      "trial - 7\n",
      "estimated 9050 frequency - 2645 , true 9050 frequency - 2500 , mistake - 5.8%\n",
      "estimated heavy hitters amount - 23 , true heavy hitters amount - 21 , mistake - 9.523809523809524%\n",
      "\n",
      "trial - 8\n",
      "estimated 9050 frequency - 2653 , true 9050 frequency - 2500 , mistake - 6.12%\n",
      "estimated heavy hitters amount - 23 , true heavy hitters amount - 21 , mistake - 9.523809523809524%\n",
      "\n",
      "trial - 9\n",
      "estimated 9050 frequency - 2641 , true 9050 frequency - 2500 , mistake - 5.64%\n",
      "estimated heavy hitters amount - 24 , true heavy hitters amount - 21 , mistake - 14.285714285714286%\n",
      "\n",
      "trial - 10\n",
      "estimated 9050 frequency - 2673 , true 9050 frequency - 2500 , mistake - 6.92%\n",
      "estimated heavy hitters amount - 23 , true heavy hitters amount - 21 , mistake - 9.523809523809524%\n",
      "\n",
      "mean element estimated frequency of 9050 - 2645.7 , true - 2500 , mistake - 5.827999999999992%\n",
      "mean heavy hitters amount - 23.4 , true - 21 , mistake - 11.428571428571422%\n"
     ]
    },
    {
     "data": {
      "text/plain": [
       "(2645.7, 23.4)"
      ]
     },
     "execution_count": 23,
     "metadata": {},
     "output_type": "execute_result"
    }
   ],
   "source": [
    "print(\"performing forward stream\")\n",
    "print()\n",
    "conduct_research(forward_stream)"
   ]
  },
  {
   "cell_type": "markdown",
   "metadata": {},
   "source": [
    "**Backward Stream**"
   ]
  },
  {
   "cell_type": "code",
   "execution_count": 24,
   "metadata": {},
   "outputs": [
    {
     "name": "stdout",
     "output_type": "stream",
     "text": [
      "performing backward stream\n",
      "\n",
      "Conservative Updates = False\n",
      "trial - 1\n",
      "estimated 9050 frequency - 2626 , true 9050 frequency - 2500 , mistake - 5.04%\n",
      "estimated heavy hitters amount - 21 , true heavy hitters amount - 21 , mistake - 0.0%\n",
      "\n",
      "trial - 2\n",
      "estimated 9050 frequency - 2633 , true 9050 frequency - 2500 , mistake - 5.32%\n",
      "estimated heavy hitters amount - 21 , true heavy hitters amount - 21 , mistake - 0.0%\n",
      "\n",
      "trial - 3\n",
      "estimated 9050 frequency - 2654 , true 9050 frequency - 2500 , mistake - 6.16%\n",
      "estimated heavy hitters amount - 22 , true heavy hitters amount - 21 , mistake - 4.761904761904762%\n",
      "\n",
      "trial - 4\n",
      "estimated 9050 frequency - 2654 , true 9050 frequency - 2500 , mistake - 6.16%\n",
      "estimated heavy hitters amount - 22 , true heavy hitters amount - 21 , mistake - 4.761904761904762%\n",
      "\n",
      "trial - 5\n",
      "estimated 9050 frequency - 2623 , true 9050 frequency - 2500 , mistake - 4.92%\n",
      "estimated heavy hitters amount - 21 , true heavy hitters amount - 21 , mistake - 0.0%\n",
      "\n",
      "trial - 6\n",
      "estimated 9050 frequency - 2655 , true 9050 frequency - 2500 , mistake - 6.2%\n",
      "estimated heavy hitters amount - 22 , true heavy hitters amount - 21 , mistake - 4.761904761904762%\n",
      "\n",
      "trial - 7\n",
      "estimated 9050 frequency - 2645 , true 9050 frequency - 2500 , mistake - 5.8%\n",
      "estimated heavy hitters amount - 22 , true heavy hitters amount - 21 , mistake - 4.761904761904762%\n",
      "\n",
      "trial - 8\n",
      "estimated 9050 frequency - 2653 , true 9050 frequency - 2500 , mistake - 6.12%\n",
      "estimated heavy hitters amount - 21 , true heavy hitters amount - 21 , mistake - 0.0%\n",
      "\n",
      "trial - 9\n",
      "estimated 9050 frequency - 2641 , true 9050 frequency - 2500 , mistake - 5.64%\n",
      "estimated heavy hitters amount - 21 , true heavy hitters amount - 21 , mistake - 0.0%\n",
      "\n",
      "trial - 10\n",
      "estimated 9050 frequency - 2673 , true 9050 frequency - 2500 , mistake - 6.92%\n",
      "estimated heavy hitters amount - 21 , true heavy hitters amount - 21 , mistake - 0.0%\n",
      "\n",
      "mean element estimated frequency of 9050 - 2645.7 , true - 2500 , mistake - 5.827999999999992%\n",
      "mean heavy hitters amount - 21.4 , true - 21 , mistake - 1.904761904761898%\n"
     ]
    },
    {
     "data": {
      "text/plain": [
       "(2645.7, 21.4)"
      ]
     },
     "execution_count": 24,
     "metadata": {},
     "output_type": "execute_result"
    }
   ],
   "source": [
    "print(\"performing backward stream\")\n",
    "print()\n",
    "conduct_research(backward_stream)"
   ]
  },
  {
   "cell_type": "markdown",
   "metadata": {},
   "source": [
    "**Random Stream**"
   ]
  },
  {
   "cell_type": "code",
   "execution_count": 25,
   "metadata": {},
   "outputs": [
    {
     "name": "stdout",
     "output_type": "stream",
     "text": [
      "performing random stream\n",
      "\n",
      "Conservative Updates = False\n",
      "trial - 1\n",
      "estimated 9050 frequency - 2626 , true 9050 frequency - 2500 , mistake - 5.04%\n",
      "estimated heavy hitters amount - 21 , true heavy hitters amount - 21 , mistake - 0.0%\n",
      "\n",
      "trial - 2\n",
      "estimated 9050 frequency - 2633 , true 9050 frequency - 2500 , mistake - 5.32%\n",
      "estimated heavy hitters amount - 21 , true heavy hitters amount - 21 , mistake - 0.0%\n",
      "\n",
      "trial - 3\n",
      "estimated 9050 frequency - 2654 , true 9050 frequency - 2500 , mistake - 6.16%\n",
      "estimated heavy hitters amount - 22 , true heavy hitters amount - 21 , mistake - 4.761904761904762%\n",
      "\n",
      "trial - 4\n",
      "estimated 9050 frequency - 2654 , true 9050 frequency - 2500 , mistake - 6.16%\n",
      "estimated heavy hitters amount - 22 , true heavy hitters amount - 21 , mistake - 4.761904761904762%\n",
      "\n",
      "trial - 5\n",
      "estimated 9050 frequency - 2623 , true 9050 frequency - 2500 , mistake - 4.92%\n",
      "estimated heavy hitters amount - 23 , true heavy hitters amount - 21 , mistake - 9.523809523809524%\n",
      "\n",
      "trial - 6\n",
      "estimated 9050 frequency - 2655 , true 9050 frequency - 2500 , mistake - 6.2%\n",
      "estimated heavy hitters amount - 23 , true heavy hitters amount - 21 , mistake - 9.523809523809524%\n",
      "\n",
      "trial - 7\n",
      "estimated 9050 frequency - 2645 , true 9050 frequency - 2500 , mistake - 5.8%\n",
      "estimated heavy hitters amount - 21 , true heavy hitters amount - 21 , mistake - 0.0%\n",
      "\n",
      "trial - 8\n",
      "estimated 9050 frequency - 2653 , true 9050 frequency - 2500 , mistake - 6.12%\n",
      "estimated heavy hitters amount - 22 , true heavy hitters amount - 21 , mistake - 4.761904761904762%\n",
      "\n",
      "trial - 9\n",
      "estimated 9050 frequency - 2641 , true 9050 frequency - 2500 , mistake - 5.64%\n",
      "estimated heavy hitters amount - 22 , true heavy hitters amount - 21 , mistake - 4.761904761904762%\n",
      "\n",
      "trial - 10\n",
      "estimated 9050 frequency - 2673 , true 9050 frequency - 2500 , mistake - 6.92%\n",
      "estimated heavy hitters amount - 23 , true heavy hitters amount - 21 , mistake - 9.523809523809524%\n",
      "\n",
      "mean element estimated frequency of 9050 - 2645.7 , true - 2500 , mistake - 5.827999999999992%\n",
      "mean heavy hitters amount - 22.0 , true - 21 , mistake - 4.761904761904762%\n"
     ]
    },
    {
     "data": {
      "text/plain": [
       "(2645.7, 22.0)"
      ]
     },
     "execution_count": 25,
     "metadata": {},
     "output_type": "execute_result"
    }
   ],
   "source": [
    "print(\"performing random stream\")\n",
    "print()\n",
    "conduct_research(random_stream)"
   ]
  },
  {
   "cell_type": "code",
   "execution_count": 32,
   "metadata": {},
   "outputs": [
    {
     "name": "stdout",
     "output_type": "stream",
     "text": [
      "Conservative Updates = False\n",
      "\n",
      "<function forward_stream at 0x1063d6ef0>\n",
      "mean element estimated frequency of 9050 - 2645.7 , true - 2500 , mistake - 5.827999999999992%\n",
      "mean heavy hitters amount - 23.4 , true - 21 , mistake - 11.428571428571422%\n",
      "\n",
      "Conservative Updates = False\n",
      "\n",
      "<function backward_stream at 0x10799ce60>\n",
      "mean element estimated frequency of 9050 - 2645.7 , true - 2500 , mistake - 5.827999999999992%\n",
      "mean heavy hitters amount - 21.4 , true - 21 , mistake - 1.904761904761898%\n",
      "\n",
      "Conservative Updates = False\n",
      "\n",
      "<function random_stream at 0x1079a8440>\n",
      "mean element estimated frequency of 9050 - 2645.7 , true - 2500 , mistake - 5.827999999999992%\n",
      "mean heavy hitters amount - 21.9 , true - 21 , mistake - 4.285714285714279%\n",
      "\n"
     ]
    },
    {
     "data": {
      "text/plain": [
       "(2645.7, 21.9)"
      ]
     },
     "execution_count": 32,
     "metadata": {},
     "output_type": "execute_result"
    }
   ],
   "source": [
    "conduct_research(forward_stream, verbose = False)\n",
    "conduct_research(backward_stream, verbose = False)\n",
    "conduct_research(random_stream, verbose = False)"
   ]
  },
  {
   "cell_type": "markdown",
   "metadata": {},
   "source": [
    "### Summary (without conservative updates)"
   ]
  },
  {
   "cell_type": "markdown",
   "metadata": {},
   "source": [
    "**Forward Stream** \\\n",
    "mean element estimated frequency of 9050 - 2645.7 , true - 2500, mistake - 5.8% \\\n",
    "mean heavy hitters amount - 23.4 , true - 21, mistake - 11.4%\n",
    "\\\n",
    "\\\n",
    "**Backward Stream** \\\n",
    "mean element estimated frequency of 9050 - 2645.7 , true - 2500, mistake - 5.8% \\\n",
    "mean heavy hitters amount - 21.4 , true - 21, mistake - 1.9%\n",
    "\\\n",
    "\\\n",
    "**Random Stream** \\\n",
    "mean element estimated frequency of 9050 - 2645.7 , true - 2500, , mistake - 5.8% \\\n",
    "mean heavy hitters amount - 21.8 , true - 21, mistake - 3.8% \n",
    "\n"
   ]
  },
  {
   "cell_type": "markdown",
   "metadata": {},
   "source": [
    "### Adding Conservative Updates"
   ]
  },
  {
   "cell_type": "markdown",
   "metadata": {},
   "source": [
    "**(d)** *(3 points)* Implement the conservative updates optimization, as follows. When updating the counters during an insert, instead of incrementing all 4 counters, we only increment the subset of these 4 counters that have the lowest current count (if two or more of them are tied for the minimum current count, then we increment each of these). \\\n",
    "\\\n",
    "*Conservative updates implemented in count_min_sketch.py*"
   ]
  },
  {
   "cell_type": "markdown",
   "metadata": {},
   "source": [
    "**(e)** *(3 points)* Explain why, even with conservative updates, the count-min sketch never underestimates the count of a value. \\\n",
    "\\\n",
    "**Becuase we never substract**\\\n",
    "**And once element is accounted its frequency never decreases**"
   ]
  },
  {
   "cell_type": "markdown",
   "metadata": {},
   "source": [
    "**(f)** *(6 points)* Repeat part **(c)** with conservative updates."
   ]
  },
  {
   "cell_type": "code",
   "execution_count": 33,
   "metadata": {},
   "outputs": [
    {
     "name": "stdout",
     "output_type": "stream",
     "text": [
      "Conservative Updates = True\n",
      "\n",
      "<function forward_stream at 0x1063d6ef0>\n",
      "mean element estimated frequency of 9050 - 2577.2 , true - 2500 , mistake - 3.0879999999999925%\n",
      "mean heavy hitters amount - 22.0 , true - 21 , mistake - 4.761904761904762%\n",
      "\n",
      "Conservative Updates = True\n",
      "\n",
      "<function backward_stream at 0x10799ce60>\n",
      "mean element estimated frequency of 9050 - 2500.0 , true - 2500 , mistake - 0.0%\n",
      "mean heavy hitters amount - 21.2 , true - 21 , mistake - 0.952380952380949%\n",
      "\n",
      "Conservative Updates = True\n",
      "\n",
      "<function random_stream at 0x1079a8440>\n",
      "mean element estimated frequency of 9050 - 2549.7 , true - 2500 , mistake - 1.9879999999999927%\n",
      "mean heavy hitters amount - 21.5 , true - 21 , mistake - 2.380952380952381%\n",
      "\n"
     ]
    },
    {
     "data": {
      "text/plain": [
       "(2549.7, 21.5)"
      ]
     },
     "execution_count": 33,
     "metadata": {},
     "output_type": "execute_result"
    }
   ],
   "source": [
    "conduct_research(forward_stream, verbose = False, conservative_updates = True)\n",
    "conduct_research(backward_stream, verbose = False, conservative_updates = True)\n",
    "conduct_research(random_stream, verbose = False, conservative_updates = True)"
   ]
  },
  {
   "cell_type": "code",
   "execution_count": 34,
   "metadata": {},
   "outputs": [
    {
     "name": "stdout",
     "output_type": "stream",
     "text": [
      "Conservative Updates = True\n",
      "trial - 1\n",
      "estimated 9050 frequency - 2500 , true 9050 frequency - 2500 , mistake - 0.0%\n",
      "estimated heavy hitters amount - 21 , true heavy hitters amount - 21 , mistake - 0.0%\n",
      "\n",
      "trial - 2\n",
      "estimated 9050 frequency - 2500 , true 9050 frequency - 2500 , mistake - 0.0%\n",
      "estimated heavy hitters amount - 21 , true heavy hitters amount - 21 , mistake - 0.0%\n",
      "\n",
      "trial - 3\n",
      "estimated 9050 frequency - 2500 , true 9050 frequency - 2500 , mistake - 0.0%\n",
      "estimated heavy hitters amount - 22 , true heavy hitters amount - 21 , mistake - 4.761904761904762%\n",
      "\n",
      "trial - 4\n",
      "estimated 9050 frequency - 2500 , true 9050 frequency - 2500 , mistake - 0.0%\n",
      "estimated heavy hitters amount - 22 , true heavy hitters amount - 21 , mistake - 4.761904761904762%\n",
      "\n",
      "trial - 5\n",
      "estimated 9050 frequency - 2500 , true 9050 frequency - 2500 , mistake - 0.0%\n",
      "estimated heavy hitters amount - 21 , true heavy hitters amount - 21 , mistake - 0.0%\n",
      "\n",
      "trial - 6\n",
      "estimated 9050 frequency - 2500 , true 9050 frequency - 2500 , mistake - 0.0%\n",
      "estimated heavy hitters amount - 21 , true heavy hitters amount - 21 , mistake - 0.0%\n",
      "\n",
      "trial - 7\n",
      "estimated 9050 frequency - 2500 , true 9050 frequency - 2500 , mistake - 0.0%\n",
      "estimated heavy hitters amount - 21 , true heavy hitters amount - 21 , mistake - 0.0%\n",
      "\n",
      "trial - 8\n",
      "estimated 9050 frequency - 2500 , true 9050 frequency - 2500 , mistake - 0.0%\n",
      "estimated heavy hitters amount - 21 , true heavy hitters amount - 21 , mistake - 0.0%\n",
      "\n",
      "trial - 9\n",
      "estimated 9050 frequency - 2500 , true 9050 frequency - 2500 , mistake - 0.0%\n",
      "estimated heavy hitters amount - 21 , true heavy hitters amount - 21 , mistake - 0.0%\n",
      "\n",
      "trial - 10\n",
      "estimated 9050 frequency - 2500 , true 9050 frequency - 2500 , mistake - 0.0%\n",
      "estimated heavy hitters amount - 21 , true heavy hitters amount - 21 , mistake - 0.0%\n",
      "\n",
      "\n",
      "<function backward_stream at 0x10799ce60>\n",
      "mean element estimated frequency of 9050 - 2500.0 , true - 2500 , mistake - 0.0%\n",
      "mean heavy hitters amount - 21.2 , true - 21 , mistake - 0.952380952380949%\n",
      "\n"
     ]
    },
    {
     "data": {
      "text/plain": [
       "(2500.0, 21.2)"
      ]
     },
     "execution_count": 34,
     "metadata": {},
     "output_type": "execute_result"
    }
   ],
   "source": [
    "conduct_research(backward_stream, verbose = True, conservative_updates = True)"
   ]
  },
  {
   "cell_type": "markdown",
   "metadata": {},
   "source": [
    "In backward stream estimated frequency error is 0% \\\n",
    "It seems interesting"
   ]
  }
 ],
 "metadata": {
  "kernelspec": {
   "display_name": "Python 3",
   "language": "python",
   "name": "python3"
  },
  "language_info": {
   "codemirror_mode": {
    "name": "ipython",
    "version": 3
   },
   "file_extension": ".py",
   "mimetype": "text/x-python",
   "name": "python",
   "nbconvert_exporter": "python",
   "pygments_lexer": "ipython3",
   "version": "3.7.4"
  }
 },
 "nbformat": 4,
 "nbformat_minor": 4
}
